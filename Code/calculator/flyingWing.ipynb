{
 "cells": [
  {
   "cell_type": "code",
   "execution_count": 19,
   "metadata": {},
   "outputs": [
    {
     "name": "stdout",
     "output_type": "stream",
     "text": [
      "Defaulting to user installation because normal site-packages is not writeable\n",
      "Requirement already satisfied: drawsvg in /Users/Charlie/Library/Python/3.9/lib/python/site-packages (2.4.0)\n",
      "\n",
      "\u001b[1m[\u001b[0m\u001b[34;49mnotice\u001b[0m\u001b[1;39;49m]\u001b[0m\u001b[39;49m A new release of pip is available: \u001b[0m\u001b[31;49m23.3.1\u001b[0m\u001b[39;49m -> \u001b[0m\u001b[32;49m24.1.1\u001b[0m\n",
      "\u001b[1m[\u001b[0m\u001b[34;49mnotice\u001b[0m\u001b[1;39;49m]\u001b[0m\u001b[39;49m To update, run: \u001b[0m\u001b[32;49m/Applications/Xcode.app/Contents/Developer/usr/bin/python3 -m pip install --upgrade pip\u001b[0m\n"
     ]
    }
   ],
   "source": [
    "import sys\n",
    "!{sys.executable} -m pip install drawsvg\n",
    "import drawsvg as draw\n",
    "import math"
   ]
  },
  {
   "cell_type": "code",
   "execution_count": 54,
   "metadata": {},
   "outputs": [
    {
     "name": "stdout",
     "output_type": "stream",
     "text": [
      "Surface area: 9.34590374339597 dm^2\n",
      "Span: 748.835245300165 mm\n",
      "Chord: 124.80587421669416 mm\n",
      "Tip chord: 77.46571503105154 mm\n",
      "Root chord: 172.14603340233677 mm\n",
      "Fin surface area: 9345.903743395971 mm^2\n",
      "Fin chord: 136.71798523527158 mm\n",
      "Fin height: 68.35899261763579 mm\n",
      "Sweep: 25 degrees\n",
      "Height 122.70815468916037 mm\n",
      "Width 146.23788419141292 mm\n"
     ]
    },
    {
     "data": {
      "image/svg+xml": [
       "<?xml version=\"1.0\" encoding=\"UTF-8\"?>\n",
       "<svg xmlns=\"http://www.w3.org/2000/svg\" xmlns:xlink=\"http://www.w3.org/1999/xlink\"\n",
       "     width=\"758.835245300165\" height=\"262.0595198209735\" viewBox=\"0 0 758.835245300165 262.0595198209735\">\n",
       "<defs>\n",
       "</defs>\n",
       "<path d=\"M5,179.59380478992193 L374.4176226500825,5\" stroke=\"black\" />\n",
       "<path d=\"M5,179.59380478992193 L5,257.0595198209735\" stroke=\"black\" />\n",
       "<path d=\"M374.4176226500825,5 L748.835245300165,179.59380478992193\" stroke=\"black\" />\n",
       "<path d=\"M748.835245300165,179.59380478992193 L748.835245300165,257.0595198209735\" stroke=\"black\" />\n",
       "<path d=\"M5,257.0595198209735 L374.4176226500825,129.80587421669418\" stroke=\"black\" />\n",
       "<path d=\"M374.4176226500825,129.80587421669418 L748.835245300165,257.0595198209735\" stroke=\"black\" />\n",
       "<path d=\"M0,0 L90,90\" stroke=\"black\" stroke-dasharray=\"5,7\" />\n",
       "</svg>"
      ],
      "text/plain": [
       "<drawsvg.drawing.Drawing at 0x107f1f610>"
      ]
     },
     "execution_count": 54,
     "metadata": {},
     "output_type": "execute_result"
    }
   ],
   "source": [
    "padding = 5  # Padding for the SVG.\n",
    "\n",
    "# Settings for the flying wing.\n",
    "airfoilTopLength =  190.9\n",
    "wcl = 7  # Wing cube loading of the glider.\n",
    "ar = 6  # Aspect ratio fo the wing.\n",
    "finAR = 2  # Aspect ratio of the fin.\n",
    "taper = 0.45  # Taper ratio of the wing.\n",
    "weight = 200 # Weight in grams of the projected glider.\n",
    "sweep = 25  # Sweep angle of the leading edge.\n",
    "\n",
    "sa = (weight / wcl) ** (1 / 1.5)\n",
    "\n",
    "saMM = sa * 10000\n",
    "\n",
    "span = (ar * saMM) ** (1 / 2)\n",
    "\n",
    "chord = span / ar\n",
    "\n",
    "rootChord = (2 * chord) / (1 + taper)\n",
    "\n",
    "tipChord = rootChord * taper\n",
    "\n",
    "finSA = 0.1 * saMM\n",
    "\n",
    "finChord = (finAR * finSA) ** (1 / 2)\n",
    "\n",
    "finHeight = finChord / finAR\n",
    "\n",
    "print(\"Surface area:\", sa, \"dm^2\")\n",
    "print(\"Span:\", span, \"mm\")\n",
    "print(\"Chord:\", chord, \"mm\")\n",
    "print(\"Tip chord:\", tipChord, \"mm\")\n",
    "print(\"Root chord:\", rootChord, \"mm\")\n",
    "print(\"Fin surface area:\", finSA, \"mm^2\")\n",
    "print(\"Fin chord:\", finChord, \"mm\")\n",
    "print(\"Fin height:\", finHeight, \"mm\")\n",
    "print(\"Sweep:\", sweep, \"degrees\")\n",
    "\n",
    "halfSpan = span / 2\n",
    "\n",
    "le = halfSpan / math.cos(math.radians(sweep))\n",
    "offset = halfSpan * math.tan(math.radians(sweep))\n",
    "\n",
    "width = airfoilTopLength * math.sin(math.radians(180-sweep*2))\n",
    "height = math.sqrt(airfoilTopLength ** 2 - width ** 2)\n",
    "\n",
    "print(\"Height\", height, \"mm\")\n",
    "print(\"Width\", width, \"mm\")\n",
    "\n",
    "d = draw.Drawing(span + padding * 2, padding * 2 + offset + tipChord, origin=(0, 0))\n",
    "\n",
    "d.append(draw.Lines(padding, offset + padding, halfSpan, padding, stroke=\"black\"))\n",
    "\n",
    "d.append(\n",
    "    draw.Lines(\n",
    "        padding, offset + padding, padding, offset + tipChord + padding, stroke=\"black\"\n",
    "    )\n",
    ")\n",
    "\n",
    "d.append(draw.Lines(halfSpan, padding, span, offset + padding, stroke=\"black\"))\n",
    "\n",
    "d.append(\n",
    "    draw.Lines(\n",
    "        span, offset + padding, span, offset + tipChord + padding, stroke=\"black\"\n",
    "    )\n",
    ")\n",
    "\n",
    "d.append(draw.Lines(padding, offset + padding + tipChord, halfSpan, chord + padding, stroke=\"black\"))\n",
    "\n",
    "d.append(\n",
    "    draw.Lines(\n",
    "         halfSpan, padding + chord, span, tipChord + offset + padding, stroke=\"black\"\n",
    "    )\n",
    ")\n",
    "\n",
    "d.append(draw.Lines(0, 0, 90, 90, stroke=\"black\", stroke_dasharray='5,7'))\n",
    "\n",
    "d"
   ]
  }
 ],
 "metadata": {
  "kernelspec": {
   "display_name": "Python 3",
   "language": "python",
   "name": "python3"
  },
  "language_info": {
   "codemirror_mode": {
    "name": "ipython",
    "version": 3
   },
   "file_extension": ".py",
   "mimetype": "text/x-python",
   "name": "python",
   "nbconvert_exporter": "python",
   "pygments_lexer": "ipython3",
   "version": "3.9.6"
  }
 },
 "nbformat": 4,
 "nbformat_minor": 2
}
