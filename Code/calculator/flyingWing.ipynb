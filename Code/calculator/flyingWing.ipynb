{
 "cells": [
  {
   "cell_type": "code",
   "execution_count": 6,
   "metadata": {},
   "outputs": [
    {
     "name": "stdout",
     "output_type": "stream",
     "text": [
      "Defaulting to user installation because normal site-packages is not writeable\n",
      "Requirement already satisfied: drawsvg in /Users/Charlie/Library/Python/3.9/lib/python/site-packages (2.4.0)\n",
      "\n",
      "\u001b[1m[\u001b[0m\u001b[34;49mnotice\u001b[0m\u001b[1;39;49m]\u001b[0m\u001b[39;49m A new release of pip is available: \u001b[0m\u001b[31;49m23.3.1\u001b[0m\u001b[39;49m -> \u001b[0m\u001b[32;49m24.1.1\u001b[0m\n",
      "\u001b[1m[\u001b[0m\u001b[34;49mnotice\u001b[0m\u001b[1;39;49m]\u001b[0m\u001b[39;49m To update, run: \u001b[0m\u001b[32;49m/Applications/Xcode.app/Contents/Developer/usr/bin/python3 -m pip install --upgrade pip\u001b[0m\n"
     ]
    }
   ],
   "source": [
    "import sys\n",
    "!{sys.executable} -m pip install drawsvg\n",
    "import drawsvg as draw"
   ]
  },
  {
   "cell_type": "code",
   "execution_count": 7,
   "metadata": {},
   "outputs": [
    {
     "name": "stdout",
     "output_type": "stream",
     "text": [
      "Surface area: 9.34590374339597 dm^2\n",
      "Span: 748.835245300165 mm\n",
      "Chord: 124.80587421669416 mm\n",
      "Tip chord: 77.46571503105154 mm\n",
      "Root chord: 172.14603340233677 mm\n",
      "Fin surface area: 9345.903743395971 mm^2\n",
      "Fin chord: 136.71798523527158 mm\n",
      "Fin height: 68.35899261763579 mm\n",
      "Sweep: 25 degrees\n"
     ]
    },
    {
     "data": {
      "image/svg+xml": [
       "<?xml version=\"1.0\" encoding=\"UTF-8\"?>\n",
       "<svg xmlns=\"http://www.w3.org/2000/svg\" xmlns:xlink=\"http://www.w3.org/1999/xlink\"\n",
       "     width=\"200\" height=\"100\" viewBox=\"-100.0 -50.0 200 100\">\n",
       "<defs>\n",
       "</defs>\n",
       "<path d=\"M-80,45 L70,49 L95,-49 L-90,-40\" fill=\"#eeee00\" stroke=\"black\" />\n",
       "</svg>"
      ],
      "text/plain": [
       "<drawsvg.drawing.Drawing at 0x107ff7760>"
      ]
     },
     "execution_count": 7,
     "metadata": {},
     "output_type": "execute_result"
    }
   ],
   "source": [
    "# Settings for the flying wing.\n",
    "wcl = 7  # Wing cube loading of the glider.\n",
    "ar = 6  # Aspect ratio fo the wing.\n",
    "finAR = 2  # Aspect ratio of the fin.\n",
    "taper = 0.45  # Taper ratio of the wing.\n",
    "weight = 200  # Weight in grams of the projected glider.\n",
    "sweep = 25  # Sweep angle of the leading edge.\n",
    "\n",
    "sa = (weight / wcl) ** (1 / 1.5)\n",
    "\n",
    "saMM = sa * 10000\n",
    "\n",
    "span = (ar * saMM) ** (1 / 2)\n",
    "\n",
    "chord = span / ar\n",
    "\n",
    "rootChord = (2 * chord) / (1 + taper)\n",
    "\n",
    "tipChord = rootChord * taper\n",
    "\n",
    "finSA = 0.1 * saMM\n",
    "\n",
    "finChord = (finAR * finSA) ** (1 / 2)\n",
    "\n",
    "finHeight = finChord / finAR\n",
    "\n",
    "print(\"Surface area:\", sa, \"dm^2\")\n",
    "print(\"Span:\", span, \"mm\")\n",
    "print(\"Chord:\", chord, \"mm\")\n",
    "print(\"Tip chord:\", tipChord, \"mm\")\n",
    "print(\"Root chord:\", rootChord, \"mm\")\n",
    "print(\"Fin surface area:\", finSA, \"mm^2\")\n",
    "print(\"Fin chord:\", finChord, \"mm\")\n",
    "print(\"Fin height:\", finHeight, \"mm\")\n",
    "print(\"Sweep:\", sweep, \"degrees\")\n",
    "\n",
    "d = draw.Drawing(200, 100, origin=\"center\")\n",
    "\n",
    "d.append(\n",
    "    draw.Lines(\n",
    "        -80, 45, 70, 49, 95, -49, -90, -40, close=False, fill=\"#eeee00\", stroke=\"black\"\n",
    "    )\n",
    ")\n",
    "\n",
    "d"
   ]
  }
 ],
 "metadata": {
  "kernelspec": {
   "display_name": "Python 3",
   "language": "python",
   "name": "python3"
  },
  "language_info": {
   "codemirror_mode": {
    "name": "ipython",
    "version": 3
   },
   "file_extension": ".py",
   "mimetype": "text/x-python",
   "name": "python",
   "nbconvert_exporter": "python",
   "pygments_lexer": "ipython3",
   "version": "3.9.6"
  }
 },
 "nbformat": 4,
 "nbformat_minor": 2
}
